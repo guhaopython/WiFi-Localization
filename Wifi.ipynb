#!/usr/bin/env python
# coding: utf-8

# In[ ]:


import pandas as pd
import numpy as np
from pandas import read_csv
from mpl_toolkits.mplot3d import Axes3D
import matplotlib.pyplot as plt
import sys
from mpl_toolkits.basemap import Basemap
import plotly.plotly as py
py.sign_in(username='roudgarian', api_key='o4hQBxVInVrbRO5I0Cji')
from plotly.graph_objs import *
import warnings
from sklearn.model_selection import train_test_split
from sklearn import metrics
from sklearn.neighbors import KNeighborsClassifier
from sklearn.metrics import classification_report
from sklearn.linear_model import LogisticRegression
from sklearn.metrics import confusion_matrix
from sklearn.svm import SVC
from sklearn.ensemble import RandomForestRegressor
from sklearn.ensemble import RandomForestClassifier
from sklearn.model_selection import cross_val_score
from sklearn.model_selection import cross_val_predict
from sklearn.metrics import cohen_kappa_score


# In[ ]:


training_df = pd.read_csv("trainingData.csv")
validation_df = pd.read_csv("validationData.csv")


# In[ ]:


df = training_df.loc[:, (training_df != 100).any()] #Remove all columns with values=100 
df = df.drop_duplicates( keep='last') #Remove all repetetive rows 


# In[ ]:


df2=df.drop(['SPACEID','RELATIVEPOSITION','USERID','PHONEID','TIMESTAMP','BUILDINGID'], axis=1)


# In[ ]:


#X = df.drop(df.iloc[:,520:529].head(0).columns, axis=1)
X =df2
y = df['BUILDINGID']


# In[ ]:


X_train, X_test, y_train, y_test = train_test_split(X, y, test_size=0.25, random_state=None)


# In[ ]:


RF = RandomForestClassifier(n_estimators=1000)
model_rf_b=RF.fit(X_train, y_train)
y_pred_rf_b = RF.predict(X_test)


# In[ ]:


print(metrics.r2_score(y_test,y_pred_rf_b))


# In[ ]:


scores_rf_b = cross_val_score(model_rf_b, X, y, cv=3,scoring='neg_mean_squared_error')
predictions_rf_b=cross_val_predict(model_rf_b,X,y,cv=8)


# In[ ]:


mse_scores_rf_b = -scores_rf_b
accuracy_rf_b=metrics.r2_score(y,predictions_rf_b)
rmse_rf_b = np.sqrt(mse_scores_rf_b)
cohen_score_rf_b = cohen_kappa_score(y, predictions_rf_b)
print("Random Forest ACC:  ",accuracy_rf_b)
print("Random Forest RMSE: ", rmse_rf_b.mean())
print("Random Forest Kappa:",cohen_score_rf_b)


# In[ ]:


np.savetxt("BUILDINGID.csv", predictions_rf_b, header="BUILDINGID")


# In[ ]:


df3=df.drop(['SPACEID','RELATIVEPOSITION','USERID','PHONEID','TIMESTAMP','FLOOR'], axis=1)


# In[ ]:


X1 =df3
y1 = df['FLOOR']


# In[ ]:


X1_train, X1_test, y1_train, y1_test = train_test_split(X1, y1, test_size=0.25, random_state=None)


# In[ ]:


RF= RandomForestClassifier(n_estimators=1000)
model_rf_f=RF.fit(X1_train, y1_train)
y_pred_rf_f = RF.predict(X1_test)


# In[ ]:


print(metrics.r2_score(y_test,y_pred_rf_f))


# In[ ]:


scores_rf_f = cross_val_score(model_rf_f, X1, y1, cv=3,scoring='neg_mean_squared_error')
predictions_rf_f=cross_val_predict(model_rf_f,X1,y1,cv=8)


# In[ ]:


mse_scores_rf_f = -scores_rf_f
accuracy_rf_f=metrics.r2_score(y1,predictions_rf_f)
rmse_rf_f = np.sqrt(mse_scores_rf_f)
cohen_score_rf_f = cohen_kappa_score(y1_test, y_pred_rf_f)
print("Random Forest ACC:  ",accuracy_rf_f)
print("Random Forest RMSE: ",rmse_rf_f.mean())
print("Random Forest Kappa:",cohen_score_rf_f)


# In[ ]:


np.savetxt("FLOOR.csv", predictions_rf_f, header="FLOOR")


# In[ ]:


df4=df.drop(['SPACEID','RELATIVEPOSITION','USERID','PHONEID','TIMESTAMP','LONGITUDE'], axis=1)


# In[ ]:


X2 =df4
y2 = df['LONGITUDE']


# In[ ]:


X2_train, X2_test, y2_train, y2_test = train_test_split(X2, y2, test_size=0.25, random_state=None)


# In[ ]:


RF= RandomForestRegressor(n_estimators=1000)
model_rf_lo=RF.fit(X2_train, y2_train)
y_pred_rf_lo = RF.predict(X2_test)


# In[ ]:


print(metrics.r2_score(y2_test,y_pred_rf_lo))


# In[ ]:


scores_rf_lo = cross_val_score(model_rf_lo, X2, y2, cv=3,scoring='neg_mean_squared_error')
predictions_rf_lo=cross_val_predict(model_rf_lo,X2,y2,cv=8)


# In[ ]:


mse_scores_rf_lo = -scores_rf_lo
accuracy_rf_lo=metrics.r2_score(y2,predictions_rf_lo)
rmse_rf_lo = np.sqrt(mse_scores_rf_lo)
print("Random Forest ACC:  ",accuracy_rf_lo)
print("Random Forest RMSE: ", rmse_rf_lo.mean())


# In[ ]:


np.savetxt("LONGITUDE.csv", predictions_rf_lo, header="LONGITUDE", comments="")


# In[ ]:


df5=df.drop(['SPACEID','RELATIVEPOSITION','USERID','PHONEID','TIMESTAMP','LATITUDE'], axis=1)


# In[ ]:


X3 =df5
y3 = df['LATITUDE']


# In[ ]:


X3_train, X3_test, y3_train, y3_test = train_test_split(X3, y3, test_size=0.25, random_state=None)


# In[ ]:


RF= RandomForestRegressor(n_estimators=1000)
model_rf_la=RF.fit(X3_train, y3_train)
y_pred_rf_la = RF.predict(X3_test)
print(metrics.r2_score(y3_test,y_pred_rf_la))


# In[ ]:


scores_rf_la = cross_val_score(model_rf_la, X3, y3, cv=3,scoring='neg_mean_squared_error')
predictions_rf_la=cross_val_predict(model_rf_la,X3,y3,cv=8)


# In[ ]:


mse_scores_rf_la = -scores_rf_la
accuracy_rf_la=metrics.r2_score(y3,predictions_rf_la)
rmse_rf_la = np.sqrt(mse_scores_rf_la)

print("Random Forest ACC:  ",accuracy_rf_la)
print("Random Forest RMSE: ", rmse_rf_la.mean())


# In[ ]:


np.savetxt("LATITUDE.csv", predictions_rf_la, header="LATITUDE", comments="")


# In[ ]:


final_df=pd.read_csv('final_df.csv')


# In[ ]:


trace1 = {
  "x":list(final_df['LONGITUDE']), 
  "y":list(final_df['LATITUDE']), 
  "z":list(final_df['FLOOR']), 
  "marker": {
    "color": "red", 
    "colorscale": "Viridis", 
    "opacity": 1, 
    "size": 4
  }, 
  "mode": "markers", 
  "type": "scatter3d"
}


# In[ ]:


trace2 = {
  "x":list(final_df['PrLONGITUDE']), 
  "y":list(final_df['PrLATITUDE']), 
  "z":list(final_df['PrFLOOR']), 
  "marker": {
    "color": "blue", 
    "colorscale": "Viridis", 
    "opacity": 1, 
    "size": 4
  }, 
  "mode": "markers", 
  "type": "scatter3d"
}


# In[ ]:


data = Data([trace1, trace2])
layout = {
  "scene": {
    "xaxis": {"title": "Longitude"}, 
    "yaxis": {"title": "Atitude"}, 
    "zaxis": {"title": "Floor"}
  }, 
  "title": "3D plot Wifi Location"
}


# In[ ]:


fig = Figure(data=data, layout=layout)
py.iplot(fig)


